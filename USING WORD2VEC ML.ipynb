{
 "cells": [
  {
   "cell_type": "code",
   "execution_count": 27,
   "metadata": {},
   "outputs": [],
   "source": [
    "import pandas as pd\n",
    "import numpy as np\n"
   ]
  },
  {
   "cell_type": "code",
   "execution_count": 28,
   "metadata": {},
   "outputs": [
    {
     "data": {
      "text/html": [
       "<div>\n",
       "<style scoped>\n",
       "    .dataframe tbody tr th:only-of-type {\n",
       "        vertical-align: middle;\n",
       "    }\n",
       "\n",
       "    .dataframe tbody tr th {\n",
       "        vertical-align: top;\n",
       "    }\n",
       "\n",
       "    .dataframe thead th {\n",
       "        text-align: right;\n",
       "    }\n",
       "</style>\n",
       "<table border=\"1\" class=\"dataframe\">\n",
       "  <thead>\n",
       "    <tr style=\"text-align: right;\">\n",
       "      <th></th>\n",
       "      <th>category</th>\n",
       "      <th>text</th>\n",
       "    </tr>\n",
       "  </thead>\n",
       "  <tbody>\n",
       "    <tr>\n",
       "      <th>0</th>\n",
       "      <td>tech</td>\n",
       "      <td>tv future in the hands of viewers with home th...</td>\n",
       "    </tr>\n",
       "    <tr>\n",
       "      <th>1</th>\n",
       "      <td>business</td>\n",
       "      <td>worldcom boss  left books alone  former worldc...</td>\n",
       "    </tr>\n",
       "    <tr>\n",
       "      <th>2</th>\n",
       "      <td>sport</td>\n",
       "      <td>tigers wary of farrell  gamble  leicester say ...</td>\n",
       "    </tr>\n",
       "    <tr>\n",
       "      <th>3</th>\n",
       "      <td>sport</td>\n",
       "      <td>yeading face newcastle in fa cup premiership s...</td>\n",
       "    </tr>\n",
       "    <tr>\n",
       "      <th>4</th>\n",
       "      <td>entertainment</td>\n",
       "      <td>ocean s twelve raids box office ocean s twelve...</td>\n",
       "    </tr>\n",
       "  </tbody>\n",
       "</table>\n",
       "</div>"
      ],
      "text/plain": [
       "        category                                               text\n",
       "0           tech  tv future in the hands of viewers with home th...\n",
       "1       business  worldcom boss  left books alone  former worldc...\n",
       "2          sport  tigers wary of farrell  gamble  leicester say ...\n",
       "3          sport  yeading face newcastle in fa cup premiership s...\n",
       "4  entertainment  ocean s twelve raids box office ocean s twelve..."
      ]
     },
     "execution_count": 28,
     "metadata": {},
     "output_type": "execute_result"
    }
   ],
   "source": [
    "data=pd.read_csv(\"bbc-text.csv\")\n",
    "data.head()"
   ]
  },
  {
   "cell_type": "code",
   "execution_count": 29,
   "metadata": {},
   "outputs": [],
   "source": [
    "cols=data.columns.tolist()\n",
    "cols=cols[-1:] + cols[:-1]\n",
    "data=data[cols]"
   ]
  },
  {
   "cell_type": "code",
   "execution_count": 30,
   "metadata": {},
   "outputs": [
    {
     "data": {
      "text/html": [
       "<div>\n",
       "<style scoped>\n",
       "    .dataframe tbody tr th:only-of-type {\n",
       "        vertical-align: middle;\n",
       "    }\n",
       "\n",
       "    .dataframe tbody tr th {\n",
       "        vertical-align: top;\n",
       "    }\n",
       "\n",
       "    .dataframe thead th {\n",
       "        text-align: right;\n",
       "    }\n",
       "</style>\n",
       "<table border=\"1\" class=\"dataframe\">\n",
       "  <thead>\n",
       "    <tr style=\"text-align: right;\">\n",
       "      <th></th>\n",
       "      <th>text</th>\n",
       "      <th>category</th>\n",
       "    </tr>\n",
       "  </thead>\n",
       "  <tbody>\n",
       "    <tr>\n",
       "      <th>0</th>\n",
       "      <td>tv future in the hands of viewers with home th...</td>\n",
       "      <td>tech</td>\n",
       "    </tr>\n",
       "    <tr>\n",
       "      <th>1</th>\n",
       "      <td>worldcom boss  left books alone  former worldc...</td>\n",
       "      <td>business</td>\n",
       "    </tr>\n",
       "    <tr>\n",
       "      <th>2</th>\n",
       "      <td>tigers wary of farrell  gamble  leicester say ...</td>\n",
       "      <td>sport</td>\n",
       "    </tr>\n",
       "    <tr>\n",
       "      <th>3</th>\n",
       "      <td>yeading face newcastle in fa cup premiership s...</td>\n",
       "      <td>sport</td>\n",
       "    </tr>\n",
       "    <tr>\n",
       "      <th>4</th>\n",
       "      <td>ocean s twelve raids box office ocean s twelve...</td>\n",
       "      <td>entertainment</td>\n",
       "    </tr>\n",
       "  </tbody>\n",
       "</table>\n",
       "</div>"
      ],
      "text/plain": [
       "                                                text       category\n",
       "0  tv future in the hands of viewers with home th...           tech\n",
       "1  worldcom boss  left books alone  former worldc...       business\n",
       "2  tigers wary of farrell  gamble  leicester say ...          sport\n",
       "3  yeading face newcastle in fa cup premiership s...          sport\n",
       "4  ocean s twelve raids box office ocean s twelve...  entertainment"
      ]
     },
     "execution_count": 30,
     "metadata": {},
     "output_type": "execute_result"
    }
   ],
   "source": [
    "data.head()"
   ]
  },
  {
   "cell_type": "code",
   "execution_count": 31,
   "metadata": {},
   "outputs": [
    {
     "name": "stdout",
     "output_type": "stream",
     "text": [
      "tv future in the hands of viewers with home theatre systems  plasma high-definition tvs  and digital video recorders moving into the living room  the way people watch tv will be radically different in five years  time.  that is according to an expert panel which gathered at the annual consumer electronics show in las vegas to discuss how these new technologies will impact one of our favourite pastimes. with the us leading the trend  programmes and other content will be delivered to viewers via home networks  through cable  satellite  telecoms companies  and broadband service providers to front rooms and portable devices.  one of the most talked-about technologies of ces has been digital and personal video recorders (dvr and pvr). these set-top boxes  like the us s tivo and the uk s sky+ system  allow people to record  store  play  pause and forward wind tv programmes when they want.  essentially  the technology allows for much more personalised tv. they are also being built-in to high-definition tv sets  which are big business in japan and the us  but slower to take off in europe because of the lack of high-definition programming. not only can people forward wind through adverts  they can also forget about abiding by network and channel schedules  putting together their own a-la-carte entertainment. but some us networks and cable and satellite companies are worried about what it means for them in terms of advertising revenues as well as  brand identity  and viewer loyalty to channels. although the us leads in this technology at the moment  it is also a concern that is being raised in europe  particularly with the growing uptake of services like sky+.  what happens here today  we will see in nine months to a years  time in the uk   adam hume  the bbc broadcast s futurologist told the bbc news website. for the likes of the bbc  there are no issues of lost advertising revenue yet. it is a more pressing issue at the moment for commercial uk broadcasters  but brand loyalty is important for everyone.  we will be talking more about content brands rather than network brands   said tim hanlon  from brand communications firm starcom mediavest.  the reality is that with broadband connections  anybody can be the producer of content.  he added:  the challenge now is that it is hard to promote a programme with so much choice.   what this means  said stacey jolna  senior vice president of tv guide tv group  is that the way people find the content they want to watch has to be simplified for tv viewers. it means that networks  in us terms  or channels could take a leaf out of google s book and be the search engine of the future  instead of the scheduler to help people find what they want to watch. this kind of channel model might work for the younger ipod generation which is used to taking control of their gadgets and what they play on them. but it might not suit everyone  the panel recognised. older generations are more comfortable with familiar schedules and channel brands because they know what they are getting. they perhaps do not want so much of the choice put into their hands  mr hanlon suggested.  on the other end  you have the kids just out of diapers who are pushing buttons already - everything is possible and available to them   said mr hanlon.  ultimately  the consumer will tell the market they want.   of the 50 000 new gadgets and technologies being showcased at ces  many of them are about enhancing the tv-watching experience. high-definition tv sets are everywhere and many new models of lcd (liquid crystal display) tvs have been launched with dvr capability built into them  instead of being external boxes. one such example launched at the show is humax s 26-inch lcd tv with an 80-hour tivo dvr and dvd recorder. one of the us s biggest satellite tv companies  directtv  has even launched its own branded dvr at the show with 100-hours of recording capability  instant replay  and a search function. the set can pause and rewind tv for up to 90 hours. and microsoft chief bill gates announced in his pre-show keynote speech a partnership with tivo  called tivotogo  which means people can play recorded programmes on windows pcs and mobile devices. all these reflect the increasing trend of freeing up multimedia so that people can watch what they want  when they want.\n",
      "worldcom boss  left books alone  former worldcom boss bernie ebbers  who is accused of overseeing an $11bn (£5.8bn) fraud  never made accounting decisions  a witness has told jurors.  david myers made the comments under questioning by defence lawyers who have been arguing that mr ebbers was not responsible for worldcom s problems. the phone company collapsed in 2002 and prosecutors claim that losses were hidden to protect the firm s shares. mr myers has already pleaded guilty to fraud and is assisting prosecutors.  on monday  defence lawyer reid weingarten tried to distance his client from the allegations. during cross examination  he asked mr myers if he ever knew mr ebbers  make an accounting decision  .  not that i am aware of   mr myers replied.  did you ever know mr ebbers to make an accounting entry into worldcom books   mr weingarten pressed.  no   replied the witness. mr myers has admitted that he ordered false accounting entries at the request of former worldcom chief financial officer scott sullivan. defence lawyers have been trying to paint mr sullivan  who has admitted fraud and will testify later in the trial  as the mastermind behind worldcom s accounting house of cards.  mr ebbers  team  meanwhile  are looking to portray him as an affable boss  who by his own admission is more pe graduate than economist. whatever his abilities  mr ebbers transformed worldcom from a relative unknown into a $160bn telecoms giant and investor darling of the late 1990s. worldcom s problems mounted  however  as competition increased and the telecoms boom petered out. when the firm finally collapsed  shareholders lost about $180bn and 20 000 workers lost their jobs. mr ebbers  trial is expected to last two months and if found guilty the former ceo faces a substantial jail sentence. he has firmly declared his innocence.\n"
     ]
    }
   ],
   "source": [
    "for i in data.text[:2]:\n",
    "    print(i)"
   ]
  },
  {
   "cell_type": "code",
   "execution_count": 32,
   "metadata": {},
   "outputs": [
    {
     "data": {
      "text/plain": [
       "sport            511\n",
       "business         510\n",
       "politics         417\n",
       "tech             401\n",
       "entertainment    386\n",
       "Name: category, dtype: int64"
      ]
     },
     "execution_count": 32,
     "metadata": {},
     "output_type": "execute_result"
    }
   ],
   "source": [
    "data.category.value_counts()"
   ]
  },
  {
   "cell_type": "code",
   "execution_count": 33,
   "metadata": {},
   "outputs": [
    {
     "name": "stdout",
     "output_type": "stream",
     "text": [
      "['tv', 'future', 'in', 'the', 'hands', 'of', 'viewers', 'with', 'home', 'theatre', 'systems', 'plasma', 'high', 'definition', 'tvs', 'and', 'digital', 'video', 'recorders', 'moving', 'into', 'the', 'living', 'room', 'the', 'way', 'people', 'watch', 'tv', 'will', 'be', 'radically', 'different', 'in', 'five', 'years', 'time', 'that', 'is', 'according', 'to', 'an', 'expert', 'panel', 'which', 'gathered', 'at', 'the', 'annual', 'consumer', 'electronics', 'show', 'in', 'las', 'vegas', 'to', 'discuss', 'how', 'these', 'new', 'technologies', 'will', 'impact', 'one', 'of', 'our', 'favourite', 'pastimes', 'with', 'the', 'us', 'leading', 'the', 'trend', 'programmes', 'and', 'other', 'content', 'will', 'be', 'delivered', 'to', 'viewers', 'via', 'home', 'networks', 'through', 'cable', 'satellite', 'telecoms', 'companies', 'and', 'broadband', 'service', 'providers', 'to', 'front', 'rooms', 'and', 'portable', 'devices', 'one', 'of', 'the', 'most', 'talked', 'about', 'technologies', 'of', 'ces', 'has', 'been', 'digital', 'and', 'personal', 'video', 'recorders', 'dvr', 'and', 'pvr', 'these', 'set', 'top', 'boxes', 'like', 'the', 'us', 'tivo', 'and', 'the', 'uk', 'sky', 'system', 'allow', 'people', 'to', 'record', 'store', 'play', 'pause', 'and', 'forward', 'wind', 'tv', 'programmes', 'when', 'they', 'want', 'essentially', 'the', 'technology', 'allows', 'for', 'much', 'more', 'personalised', 'tv', 'they', 'are', 'also', 'being', 'built', 'in', 'to', 'high', 'definition', 'tv', 'sets', 'which', 'are', 'big', 'business', 'in', 'japan', 'and', 'the', 'us', 'but', 'slower', 'to', 'take', 'off', 'in', 'europe', 'because', 'of', 'the', 'lack', 'of', 'high', 'definition', 'programming', 'not', 'only', 'can', 'people', 'forward', 'wind', 'through', 'adverts']\n"
     ]
    }
   ],
   "source": [
    "from gensim.utils import simple_preprocess\n",
    "print(simple_preprocess(data.text[0])[:200])"
   ]
  },
  {
   "cell_type": "code",
   "execution_count": 34,
   "metadata": {},
   "outputs": [
    {
     "data": {
      "text/plain": [
       "0    [tv, future, in, the, hands, of, viewers, with...\n",
       "1    [worldcom, boss, left, books, alone, former, w...\n",
       "2    [tigers, wary, of, farrell, gamble, leicester,...\n",
       "3    [yeading, face, newcastle, in, fa, cup, premie...\n",
       "4    [ocean, twelve, raids, box, office, ocean, twe...\n",
       "5    [howard, hits, back, at, mongrel, jibe, michae...\n",
       "6    [blair, prepares, to, name, poll, date, tony, ...\n",
       "7    [henman, hopes, ended, in, dubai, third, seed,...\n",
       "8    [wilkinson, fit, to, face, edinburgh, england,...\n",
       "9    [last, star, wars, not, for, children, the, si...\n",
       "Name: text, dtype: object"
      ]
     },
     "execution_count": 34,
     "metadata": {},
     "output_type": "execute_result"
    }
   ],
   "source": [
    "preprocessed_bbc_text=data.text.apply(lambda x: simple_preprocess(x))\n",
    "preprocessed_bbc_text[:10]"
   ]
  },
  {
   "cell_type": "code",
   "execution_count": 35,
   "metadata": {},
   "outputs": [
    {
     "data": {
      "text/plain": [
       "18588"
      ]
     },
     "execution_count": 35,
     "metadata": {},
     "output_type": "execute_result"
    }
   ],
   "source": [
    "from gensim.models import Word2Vec\n",
    "w2vmodel=Word2Vec(preprocessed_bbc_text, min_count=2,sg=1,size=300)\n",
    "len(w2vmodel.wv.vocab)"
   ]
  },
  {
   "cell_type": "code",
   "execution_count": 36,
   "metadata": {},
   "outputs": [
    {
     "data": {
      "text/plain": [
       "[('tv', <gensim.models.keyedvectors.Vocab at 0x7f32b6602be0>),\n",
       " ('future', <gensim.models.keyedvectors.Vocab at 0x7f32b67d3128>),\n",
       " ('in', <gensim.models.keyedvectors.Vocab at 0x7f32b682b198>),\n",
       " ('the', <gensim.models.keyedvectors.Vocab at 0x7f32914282e8>),\n",
       " ('hands', <gensim.models.keyedvectors.Vocab at 0x7f3291428358>),\n",
       " ('of', <gensim.models.keyedvectors.Vocab at 0x7f3291428128>),\n",
       " ('viewers', <gensim.models.keyedvectors.Vocab at 0x7f3291428390>),\n",
       " ('with', <gensim.models.keyedvectors.Vocab at 0x7f32914283c8>),\n",
       " ('home', <gensim.models.keyedvectors.Vocab at 0x7f3291428400>),\n",
       " ('theatre', <gensim.models.keyedvectors.Vocab at 0x7f3291428438>)]"
      ]
     },
     "execution_count": 36,
     "metadata": {},
     "output_type": "execute_result"
    }
   ],
   "source": [
    "list(w2vmodel.wv.vocab.items())[:10]"
   ]
  },
  {
   "cell_type": "code",
   "execution_count": 37,
   "metadata": {},
   "outputs": [
    {
     "data": {
      "text/plain": [
       "(300,)"
      ]
     },
     "execution_count": 37,
     "metadata": {},
     "output_type": "execute_result"
    }
   ],
   "source": [
    "w2vmodel.wv.get_vector('warning').shape"
   ]
  },
  {
   "cell_type": "code",
   "execution_count": 38,
   "metadata": {},
   "outputs": [
    {
     "data": {
      "text/plain": [
       "[('gas', 0.8837971687316895),\n",
       " ('steel', 0.8586351871490479),\n",
       " ('soaring', 0.8445186614990234),\n",
       " ('nestle', 0.844204306602478),\n",
       " ('fuel', 0.8438330888748169),\n",
       " ('currency', 0.8406231999397278),\n",
       " ('assets', 0.8342224359512329),\n",
       " ('exports', 0.8275463581085205),\n",
       " ('carrier', 0.8255248069763184),\n",
       " ('exploration', 0.8243340849876404)]"
      ]
     },
     "execution_count": 38,
     "metadata": {},
     "output_type": "execute_result"
    }
   ],
   "source": [
    "## Lets see words related to \"oil\"\n",
    "words_oil=w2vmodel.wv.most_similar('oil')\n",
    "words_oil"
   ]
  },
  {
   "cell_type": "code",
   "execution_count": 39,
   "metadata": {},
   "outputs": [
    {
     "data": {
      "text/plain": [
       "[('hardware', 0.8916391134262085),\n",
       " ('desktop', 0.8880372047424316),\n",
       " ('ipod', 0.8833292126655579),\n",
       " ('upgrade', 0.879540741443634),\n",
       " ('handset', 0.8760766983032227),\n",
       " ('machine', 0.8739659190177917),\n",
       " ('processor', 0.8724614381790161),\n",
       " ('interface', 0.8721810579299927),\n",
       " ('xp', 0.8668877482414246),\n",
       " ('capability', 0.8663080930709839)]"
      ]
     },
     "execution_count": 39,
     "metadata": {},
     "output_type": "execute_result"
    }
   ],
   "source": [
    "words_pc=w2vmodel.wv.most_similar('pc')\n",
    "words_pc"
   ]
  },
  {
   "cell_type": "code",
   "execution_count": 40,
   "metadata": {},
   "outputs": [
    {
     "data": {
      "text/plain": [
       "[('gas', 0.8837971687316895),\n",
       " ('steel', 0.8586351871490479),\n",
       " ('soaring', 0.8445186614990234),\n",
       " ('nestle', 0.844204306602478),\n",
       " ('fuel', 0.8438330888748169),\n",
       " ('currency', 0.8406231999397278),\n",
       " ('assets', 0.8342224359512329),\n",
       " ('exports', 0.8275463581085205),\n",
       " ('carrier', 0.8255248069763184),\n",
       " ('exploration', 0.8243340849876404),\n",
       " ('interactive', 0.776001513004303),\n",
       " ('movies', 0.7606346607208252),\n",
       " ('recorders', 0.759642481803894),\n",
       " ('portable', 0.7592406272888184),\n",
       " ('mainstream', 0.7502903938293457),\n",
       " ('digital', 0.7498209476470947),\n",
       " ('sound', 0.7475054264068604),\n",
       " ('download', 0.7458351850509644),\n",
       " ('gaming', 0.7445796728134155),\n",
       " ('physical', 0.743748664855957),\n",
       " ('rugby', 0.8816840052604675),\n",
       " ('irb', 0.8364220857620239),\n",
       " ('league', 0.8323231935501099),\n",
       " ('spanish', 0.8132981061935425),\n",
       " ('lions', 0.8082587718963623),\n",
       " ('champions', 0.8037477731704712),\n",
       " ('spirit', 0.79052734375),\n",
       " ('coaches', 0.7843788862228394),\n",
       " ('fantastic', 0.7797977328300476),\n",
       " ('premier', 0.7779995203018188)]"
      ]
     },
     "execution_count": 40,
     "metadata": {},
     "output_type": "execute_result"
    }
   ],
   "source": [
    "words_music = w2vmodel.wv.most_similar('music')\n",
    "words_football = w2vmodel.wv.most_similar('football')\n",
    "\n",
    "# combine word lists \n",
    "words = words_oil + words_music + words_football\n",
    "\n",
    "words=list(map(lambda x: x, words))\n",
    "words"
   ]
  },
  {
   "cell_type": "code",
   "execution_count": 41,
   "metadata": {},
   "outputs": [],
   "source": [
    "import matplotlib.pyplot as plt\n",
    "%matplotlib inline"
   ]
  },
  {
   "cell_type": "code",
   "execution_count": 42,
   "metadata": {},
   "outputs": [],
   "source": [
    "from sklearn.decomposition import PCA"
   ]
  },
  {
   "cell_type": "code",
   "execution_count": 43,
   "metadata": {},
   "outputs": [],
   "source": [
    "from matplotlib import pyplot\n",
    "from sklearn.decomposition import PCA\n",
    "\n",
    "# plots w2v embeddings of a given word list\n",
    "def plot_w2v(word_list):\n",
    "    X = w2vmodel[word_list]\n",
    "    \n",
    "    # reduce dimensions to 2\n",
    "    pca = PCA(n_components=2)\n",
    "    result = pca.fit_transform(X)\n",
    "    \n",
    "    # create a scatter plot of the projection\n",
    "    pyplot.scatter(result[:, 0], result[:, 1])\n",
    "    for i, word in enumerate(word_list):\n",
    "        pyplot.annotate(word, xy=(result[i, 0], result[i, 1]))\n",
    "        \n",
    "    # show\n",
    "    pyplot.figure(figsize=(6,15))\n",
    "    pyplot.show()\n"
   ]
  },
  {
   "cell_type": "code",
   "execution_count": 90,
   "metadata": {},
   "outputs": [
    {
     "name": "stderr",
     "output_type": "stream",
     "text": [
      "/home/normaluser/anaconda3/lib/python3.7/site-packages/smart_open/smart_open_lib.py:398: UserWarning: This function is deprecated, use smart_open.open instead. See the migration notes for details: https://github.com/RaRe-Technologies/smart_open/blob/master/README.rst#migrating-to-the-new-open-function\n",
      "  'See the migration notes for details: %s' % _MIGRATION_NOTES_URL\n"
     ]
    },
    {
     "ename": "MemoryError",
     "evalue": "",
     "output_type": "error",
     "traceback": [
      "\u001b[0;31m---------------------------------------------------------------------------\u001b[0m",
      "\u001b[0;31mMemoryError\u001b[0m                               Traceback (most recent call last)",
      "\u001b[0;32m<ipython-input-90-1cf554ad9b57>\u001b[0m in \u001b[0;36m<module>\u001b[0;34m\u001b[0m\n\u001b[1;32m      1\u001b[0m \u001b[0;32mfrom\u001b[0m \u001b[0mgensim\u001b[0m\u001b[0;34m.\u001b[0m\u001b[0mmodels\u001b[0m \u001b[0;32mimport\u001b[0m \u001b[0mKeyedVectors\u001b[0m\u001b[0;34m\u001b[0m\u001b[0;34m\u001b[0m\u001b[0m\n\u001b[1;32m      2\u001b[0m \u001b[0;31m#filename=\"/home/normaluser/\"\u001b[0m\u001b[0;34m\u001b[0m\u001b[0;34m\u001b[0m\u001b[0;34m\u001b[0m\u001b[0m\n\u001b[0;32m----> 3\u001b[0;31m \u001b[0mw2vec\u001b[0m\u001b[0;34m=\u001b[0m\u001b[0mKeyedVectors\u001b[0m\u001b[0;34m.\u001b[0m\u001b[0mload_word2vec_format\u001b[0m\u001b[0;34m(\u001b[0m\u001b[0;34m\"GoogleNews-vectors-negative300.bin\"\u001b[0m\u001b[0;34m,\u001b[0m \u001b[0mbinary\u001b[0m\u001b[0;34m=\u001b[0m\u001b[0;32mTrue\u001b[0m\u001b[0;34m)\u001b[0m\u001b[0;34m\u001b[0m\u001b[0;34m\u001b[0m\u001b[0m\n\u001b[0m",
      "\u001b[0;32m~/anaconda3/lib/python3.7/site-packages/gensim/models/keyedvectors.py\u001b[0m in \u001b[0;36mload_word2vec_format\u001b[0;34m(cls, fname, fvocab, binary, encoding, unicode_errors, limit, datatype)\u001b[0m\n\u001b[1;32m   1117\u001b[0m         return _load_word2vec_format(\n\u001b[1;32m   1118\u001b[0m             \u001b[0mWord2VecKeyedVectors\u001b[0m\u001b[0;34m,\u001b[0m \u001b[0mfname\u001b[0m\u001b[0;34m,\u001b[0m \u001b[0mfvocab\u001b[0m\u001b[0;34m=\u001b[0m\u001b[0mfvocab\u001b[0m\u001b[0;34m,\u001b[0m \u001b[0mbinary\u001b[0m\u001b[0;34m=\u001b[0m\u001b[0mbinary\u001b[0m\u001b[0;34m,\u001b[0m \u001b[0mencoding\u001b[0m\u001b[0;34m=\u001b[0m\u001b[0mencoding\u001b[0m\u001b[0;34m,\u001b[0m \u001b[0municode_errors\u001b[0m\u001b[0;34m=\u001b[0m\u001b[0municode_errors\u001b[0m\u001b[0;34m,\u001b[0m\u001b[0;34m\u001b[0m\u001b[0;34m\u001b[0m\u001b[0m\n\u001b[0;32m-> 1119\u001b[0;31m             limit=limit, datatype=datatype)\n\u001b[0m\u001b[1;32m   1120\u001b[0m \u001b[0;34m\u001b[0m\u001b[0m\n\u001b[1;32m   1121\u001b[0m     \u001b[0;32mdef\u001b[0m \u001b[0mget_keras_embedding\u001b[0m\u001b[0;34m(\u001b[0m\u001b[0mself\u001b[0m\u001b[0;34m,\u001b[0m \u001b[0mtrain_embeddings\u001b[0m\u001b[0;34m=\u001b[0m\u001b[0;32mFalse\u001b[0m\u001b[0;34m)\u001b[0m\u001b[0;34m:\u001b[0m\u001b[0;34m\u001b[0m\u001b[0;34m\u001b[0m\u001b[0m\n",
      "\u001b[0;32m~/anaconda3/lib/python3.7/site-packages/gensim/models/utils_any2vec.py\u001b[0m in \u001b[0;36m_load_word2vec_format\u001b[0;34m(cls, fname, fvocab, binary, encoding, unicode_errors, limit, datatype)\u001b[0m\n\u001b[1;32m    178\u001b[0m         \u001b[0mresult\u001b[0m \u001b[0;34m=\u001b[0m \u001b[0mcls\u001b[0m\u001b[0;34m(\u001b[0m\u001b[0mvector_size\u001b[0m\u001b[0;34m)\u001b[0m\u001b[0;34m\u001b[0m\u001b[0;34m\u001b[0m\u001b[0m\n\u001b[1;32m    179\u001b[0m         \u001b[0mresult\u001b[0m\u001b[0;34m.\u001b[0m\u001b[0mvector_size\u001b[0m \u001b[0;34m=\u001b[0m \u001b[0mvector_size\u001b[0m\u001b[0;34m\u001b[0m\u001b[0;34m\u001b[0m\u001b[0m\n\u001b[0;32m--> 180\u001b[0;31m         \u001b[0mresult\u001b[0m\u001b[0;34m.\u001b[0m\u001b[0mvectors\u001b[0m \u001b[0;34m=\u001b[0m \u001b[0mzeros\u001b[0m\u001b[0;34m(\u001b[0m\u001b[0;34m(\u001b[0m\u001b[0mvocab_size\u001b[0m\u001b[0;34m,\u001b[0m \u001b[0mvector_size\u001b[0m\u001b[0;34m)\u001b[0m\u001b[0;34m,\u001b[0m \u001b[0mdtype\u001b[0m\u001b[0;34m=\u001b[0m\u001b[0mdatatype\u001b[0m\u001b[0;34m)\u001b[0m\u001b[0;34m\u001b[0m\u001b[0;34m\u001b[0m\u001b[0m\n\u001b[0m\u001b[1;32m    181\u001b[0m \u001b[0;34m\u001b[0m\u001b[0m\n\u001b[1;32m    182\u001b[0m         \u001b[0;32mdef\u001b[0m \u001b[0madd_word\u001b[0m\u001b[0;34m(\u001b[0m\u001b[0mword\u001b[0m\u001b[0;34m,\u001b[0m \u001b[0mweights\u001b[0m\u001b[0;34m)\u001b[0m\u001b[0;34m:\u001b[0m\u001b[0;34m\u001b[0m\u001b[0;34m\u001b[0m\u001b[0m\n",
      "\u001b[0;31mMemoryError\u001b[0m: "
     ]
    }
   ],
   "source": [
    "from gensim.models import KeyedVectors\n",
    "#filename=\"/home/normaluser/\"\n",
    "w2vec=KeyedVectors.load_word2vec_format(\"GoogleNews-vectors-negative300.bin\", binary=True)"
   ]
  },
  {
   "cell_type": "code",
   "execution_count": 55,
   "metadata": {},
   "outputs": [],
   "source": [
    "def get_embedding(word_tokens,pre_trained):\n",
    "    embedding=[]\n",
    "    if pre_trained:\n",
    "        model = w2vec\n",
    "    else:\n",
    "        model = w2vmodel\n",
    "        \n",
    "    for token in word_tokens:\n",
    "        if token in model.wv.vocab:\n",
    "            embedding.append(model.wv.get_vector(token))\n",
    "    \n",
    "    return np.mean(embedding, axis=0)\n",
    "            "
   ]
  },
  {
   "cell_type": "code",
   "execution_count": 56,
   "metadata": {},
   "outputs": [],
   "source": [
    "from sklearn.preprocessing import LabelEncoder\n",
    "from sklearn.model_selection import train_test_split"
   ]
  },
  {
   "cell_type": "code",
   "execution_count": 67,
   "metadata": {},
   "outputs": [],
   "source": [
    "x_w2v_model=preprocessed_bbc_text.apply(lambda x: get_embedding(x, pre_trained=0))"
   ]
  },
  {
   "cell_type": "code",
   "execution_count": 68,
   "metadata": {},
   "outputs": [
    {
     "data": {
      "text/plain": [
       "(2225, 300)"
      ]
     },
     "execution_count": 68,
     "metadata": {},
     "output_type": "execute_result"
    }
   ],
   "source": [
    "x_w2v_model=pd.DataFrame(x_w2v_model.tolist())\n",
    "x_w2v_model.shape"
   ]
  },
  {
   "cell_type": "code",
   "execution_count": 69,
   "metadata": {},
   "outputs": [],
   "source": [
    "lb=LabelEncoder()\n",
    "y=lb.fit_transform(data.category)"
   ]
  },
  {
   "cell_type": "code",
   "execution_count": 70,
   "metadata": {},
   "outputs": [],
   "source": [
    "x_train,x_test,y_train,y_test=train_test_split(x_w2v_model,y,test_size=0.2,random_state=0)"
   ]
  },
  {
   "cell_type": "code",
   "execution_count": 73,
   "metadata": {},
   "outputs": [],
   "source": [
    "from sklearn.naive_bayes import GaussianNB\n",
    "from sklearn.metrics import accuracy_score\n",
    "gauss=GaussianNB()\n",
    "gauss.fit(x_train,y_train)\n",
    "y_predict=gauss.predict(x_test)"
   ]
  },
  {
   "cell_type": "code",
   "execution_count": 78,
   "metadata": {},
   "outputs": [
    {
     "data": {
      "text/plain": [
       "array([4, 3, 3, 3, 3, 2, 2, 0, 0, 3, 1, 3, 0, 0, 1, 3, 3, 0, 4, 4, 2, 3,\n",
       "       3, 2, 2, 4, 4, 3, 3, 1, 1, 1, 3, 2, 4, 0, 2, 0, 1, 0, 4, 2, 4, 3,\n",
       "       2, 3, 0, 1, 0, 1, 3, 0, 2, 2, 3, 3, 2, 0, 1, 3, 4, 1, 1, 0, 0, 1,\n",
       "       0, 4, 2, 3, 3, 0, 4, 3, 1, 2, 3, 4, 4, 3, 3, 3, 1, 0, 4, 0, 2, 0,\n",
       "       2, 1, 4, 1, 3, 2, 3, 3, 1, 1, 4, 1, 2, 4, 1, 4, 3, 2, 3, 1, 3, 3,\n",
       "       1, 2, 1, 4, 3, 0, 4, 0, 0, 0, 1, 0, 3, 0, 4, 2, 1, 1, 2, 3, 1, 3,\n",
       "       2, 2, 3, 2, 0, 4, 4, 3, 3, 2, 3, 3, 3, 1, 4, 0, 3, 1, 1, 3, 2, 4,\n",
       "       2, 0, 4, 3, 1, 0, 0, 0, 4, 4, 1, 0, 4, 2, 4, 3, 4, 4, 0, 1, 3, 0,\n",
       "       2, 2, 0, 0, 2, 3, 4, 2, 2, 4, 1, 4, 3, 3, 2, 0, 4, 1, 4, 4, 3, 0,\n",
       "       0, 3, 4, 1, 3, 4, 2, 3, 3, 3, 3, 4, 1, 2, 0, 1, 0, 0, 4, 0, 1, 1,\n",
       "       0, 2, 3, 3, 2, 3, 0, 4, 0, 3, 4, 4, 4, 2, 4, 4, 3, 0, 0, 0, 0, 4,\n",
       "       2, 1, 1, 4, 4, 1, 0, 2, 0, 0, 3, 0, 2, 3, 1, 0, 2, 0, 4, 2, 4, 3,\n",
       "       4, 2, 0, 3, 3, 1, 1, 0, 1, 2, 4, 3, 0, 3, 1, 0, 3, 0, 4, 1, 2, 2,\n",
       "       1, 4, 0, 3, 1, 3, 2, 4, 3, 1, 2, 2, 1, 3, 2, 0, 3, 0, 0, 3, 0, 4,\n",
       "       1, 2, 0, 3, 3, 3, 4, 1, 4, 3, 3, 3, 2, 0, 4, 1, 1, 3, 3, 1, 1, 1,\n",
       "       0, 4, 3, 4, 0, 1, 4, 0, 0, 4, 1, 3, 0, 0, 1, 0, 0, 2, 4, 2, 3, 1,\n",
       "       3, 2, 3, 1, 2, 3, 3, 4, 2, 2, 3, 4, 4, 1, 0, 4, 4, 4, 1, 0, 3, 4,\n",
       "       2, 3, 4, 4, 3, 1, 3, 3, 3, 0, 0, 4, 4, 2, 4, 3, 1, 0, 3, 2, 1, 2,\n",
       "       2, 1, 2, 0, 3, 3, 0, 1, 2, 3, 2, 2, 3, 0, 2, 4, 2, 1, 4, 1, 0, 3,\n",
       "       4, 3, 3, 0, 4, 2, 1, 0, 2, 0, 0, 2, 4, 3, 0, 4, 0, 2, 2, 0, 0, 0,\n",
       "       3, 3, 2, 0, 3])"
      ]
     },
     "execution_count": 78,
     "metadata": {},
     "output_type": "execute_result"
    }
   ],
   "source": [
    "y_predict"
   ]
  },
  {
   "cell_type": "code",
   "execution_count": 80,
   "metadata": {},
   "outputs": [
    {
     "data": {
      "text/plain": [
       "array([2, 3, 3, 3, 3, 1, 2, 0, 0, 3, 1, 3, 0, 0, 1, 3, 3, 0, 4, 4, 2, 3,\n",
       "       3, 2, 2, 4, 4, 3, 3, 1, 2, 1, 3, 2, 4, 0, 2, 0, 1, 0, 4, 2, 4, 3,\n",
       "       2, 3, 0, 1, 0, 1, 3, 0, 2, 2, 3, 3, 2, 0, 0, 3, 4, 1, 1, 0, 0, 1,\n",
       "       0, 4, 0, 3, 3, 0, 4, 3, 1, 4, 3, 2, 4, 3, 3, 3, 1, 0, 4, 0, 2, 0,\n",
       "       2, 1, 4, 1, 3, 2, 3, 3, 1, 1, 4, 1, 2, 4, 1, 4, 3, 2, 3, 1, 3, 3,\n",
       "       1, 2, 1, 1, 3, 0, 0, 0, 0, 0, 1, 0, 3, 0, 4, 0, 1, 1, 2, 3, 1, 3,\n",
       "       2, 2, 3, 2, 0, 4, 4, 3, 3, 2, 3, 3, 3, 1, 4, 0, 3, 1, 1, 3, 2, 4,\n",
       "       2, 0, 4, 3, 1, 0, 0, 0, 4, 4, 1, 0, 4, 2, 4, 3, 4, 4, 0, 1, 3, 0,\n",
       "       2, 2, 0, 0, 2, 3, 4, 2, 2, 4, 1, 4, 3, 3, 2, 1, 4, 1, 4, 4, 3, 0,\n",
       "       0, 3, 4, 1, 3, 1, 2, 3, 3, 3, 3, 4, 1, 2, 0, 3, 1, 0, 4, 0, 1, 1,\n",
       "       0, 2, 3, 3, 4, 3, 0, 4, 0, 3, 1, 4, 4, 2, 4, 4, 3, 0, 0, 0, 0, 4,\n",
       "       2, 1, 1, 4, 4, 1, 0, 2, 0, 0, 3, 0, 2, 3, 1, 0, 2, 0, 4, 2, 4, 3,\n",
       "       4, 2, 0, 3, 3, 1, 1, 0, 1, 2, 4, 1, 0, 3, 1, 0, 3, 0, 4, 1, 2, 2,\n",
       "       1, 4, 0, 3, 1, 3, 2, 4, 3, 1, 2, 1, 1, 3, 2, 0, 3, 0, 0, 3, 0, 4,\n",
       "       1, 2, 0, 3, 3, 3, 4, 1, 4, 3, 3, 3, 2, 0, 4, 1, 1, 3, 3, 1, 1, 1,\n",
       "       0, 4, 3, 4, 0, 1, 4, 0, 0, 4, 1, 3, 0, 0, 1, 0, 0, 2, 4, 2, 3, 1,\n",
       "       3, 2, 3, 1, 2, 3, 3, 4, 2, 2, 3, 4, 4, 1, 0, 4, 4, 4, 1, 0, 3, 4,\n",
       "       2, 3, 4, 4, 3, 1, 3, 3, 3, 0, 0, 4, 4, 2, 1, 3, 1, 0, 3, 2, 1, 2,\n",
       "       2, 1, 2, 0, 3, 3, 0, 1, 2, 3, 2, 2, 3, 0, 2, 4, 2, 1, 4, 1, 0, 3,\n",
       "       4, 3, 3, 0, 4, 2, 1, 0, 2, 0, 0, 2, 4, 3, 0, 4, 0, 2, 2, 0, 0, 0,\n",
       "       3, 3, 2, 0, 3])"
      ]
     },
     "execution_count": 80,
     "metadata": {},
     "output_type": "execute_result"
    }
   ],
   "source": [
    "y_test"
   ]
  },
  {
   "cell_type": "code",
   "execution_count": 82,
   "metadata": {},
   "outputs": [
    {
     "data": {
      "text/plain": [
       "0.9573033707865168"
      ]
     },
     "execution_count": 82,
     "metadata": {},
     "output_type": "execute_result"
    }
   ],
   "source": [
    "accuracy_score(y_test,y_predict)"
   ]
  },
  {
   "cell_type": "code",
   "execution_count": 88,
   "metadata": {},
   "outputs": [
    {
     "name": "stderr",
     "output_type": "stream",
     "text": [
      "/home/normaluser/anaconda3/lib/python3.7/site-packages/ipykernel_launcher.py:9: DeprecationWarning: Call to deprecated `wv` (Attribute will be removed in 4.0.0, use self instead).\n",
      "  if __name__ == '__main__':\n",
      "/home/normaluser/anaconda3/lib/python3.7/site-packages/ipykernel_launcher.py:10: DeprecationWarning: Call to deprecated `wv` (Attribute will be removed in 4.0.0, use self instead).\n",
      "  # Remove the CWD from sys.path while we load stuff.\n"
     ]
    },
    {
     "name": "stdout",
     "output_type": "stream",
     "text": [
      "X shape: (2225, 300)\n"
     ]
    }
   ],
   "source": [
    "from sklearn.model_selection import train_test_split\n",
    "\n",
    "# create X from w2vec\n",
    "X_w2v = preprocessed_bbc_text.apply(lambda x: get_embedding(x, pre_trained=1))\n",
    "X_w2v = pd.DataFrame(X_w2v.tolist())\n",
    "print('X shape:', X_w2v.shape)\n",
    "\n",
    "# split into train and test\n",
    "y = data.category\n",
    "X_train_wv, X_test_wv, y_train_wv, y_test_wv = train_test_split(X_w2v, y, test_size=0.2, random_state=0)"
   ]
  },
  {
   "cell_type": "code",
   "execution_count": 89,
   "metadata": {},
   "outputs": [
    {
     "name": "stdout",
     "output_type": "stream",
     "text": [
      "Accuracy: 94.6067415730337 %\n"
     ]
    }
   ],
   "source": [
    "# build a text classification model\n",
    "from sklearn.naive_bayes import GaussianNB\n",
    "from sklearn.metrics import accuracy_score\n",
    "\n",
    "# Initialize GaussianNB classifier\n",
    "model_2 = GaussianNB()\n",
    "# Fit the model on the train dataset\n",
    "model_2 = model_2.fit(X_train_wv, y_train_wv)\n",
    "# Make predictions on the test dataset\n",
    "pred_2 = model_2.predict(X_test_wv)\n",
    "\n",
    "# check the accuracy of the model\n",
    "print(\"Accuracy:\", accuracy_score(y_test_wv, pred_2)*100, \"%\")"
   ]
  },
  {
   "cell_type": "code",
   "execution_count": null,
   "metadata": {},
   "outputs": [],
   "source": []
  }
 ],
 "metadata": {
  "kernelspec": {
   "display_name": "Python 3",
   "language": "python",
   "name": "python3"
  },
  "language_info": {
   "codemirror_mode": {
    "name": "ipython",
    "version": 3
   },
   "file_extension": ".py",
   "mimetype": "text/x-python",
   "name": "python",
   "nbconvert_exporter": "python",
   "pygments_lexer": "ipython3",
   "version": "3.7.3"
  }
 },
 "nbformat": 4,
 "nbformat_minor": 2
}
